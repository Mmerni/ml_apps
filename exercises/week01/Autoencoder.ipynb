{
 "cells": [
  {
   "cell_type": "markdown",
   "metadata": {},
   "source": [
    "# Autoencoder Network"
   ]
  },
  {
   "cell_type": "code",
   "execution_count": 1,
   "metadata": {},
   "outputs": [
    {
     "name": "stderr",
     "output_type": "stream",
     "text": [
      "Using TensorFlow backend.\n"
     ]
    }
   ],
   "source": [
    "from keras.layers import Input, Dense\n",
    "from keras.models import Model\n",
    "from keras.datasets import mnist\n",
    "import numpy as np\n",
    "import matplotlib.pyplot as plt\n",
    "from keras.callbacks import TensorBoard\n",
    "\n",
    "from numpy.random import seed\n",
    "seed(1)\n",
    "from tensorflow import set_random_seed\n",
    "set_random_seed(1)\n",
    "\n",
    "ENCODING_DIM = 64 # Compression factor 24.5"
   ]
  },
  {
   "cell_type": "code",
   "execution_count": 2,
   "metadata": {},
   "outputs": [
    {
     "name": "stdout",
     "output_type": "stream",
     "text": [
      "(60000, 784)\n",
      "(10000, 784)\n"
     ]
    }
   ],
   "source": [
    "(x_train, _), (x_test, _) = mnist.load_data()\n",
    "x_train = x_train.astype('float32') / 255.\n",
    "x_test = x_test.astype('float32') / 255.\n",
    "x_train = x_train.reshape((len(x_train), np.prod(x_train.shape[1:])))\n",
    "x_test = x_test.reshape((len(x_test), np.prod(x_test.shape[1:])))\n",
    "print(x_train.shape)\n",
    "print(x_test.shape)"
   ]
  },
  {
   "cell_type": "code",
   "execution_count": 3,
   "metadata": {},
   "outputs": [],
   "source": [
    "input_img = Input(shape=(784,),name='ImageInput')\n",
    "\n",
    "encoded = Dense(ENCODING_DIM, activation='relu',name='Encoder')(input_img)\n",
    "\n",
    "decoded = Dense(784, activation='sigmoid',name='Decoder')(encoded)"
   ]
  },
  {
   "cell_type": "code",
   "execution_count": 4,
   "metadata": {},
   "outputs": [],
   "source": [
    "autoencoder = Model(input_img, decoded)"
   ]
  },
  {
   "cell_type": "code",
   "execution_count": 5,
   "metadata": {},
   "outputs": [
    {
     "data": {
      "text/plain": [
       "25120"
      ]
     },
     "execution_count": 5,
     "metadata": {},
     "output_type": "execute_result"
    }
   ],
   "source": [
    "32*784+32"
   ]
  },
  {
   "cell_type": "code",
   "execution_count": 6,
   "metadata": {},
   "outputs": [
    {
     "data": {
      "text/plain": [
       "25872"
      ]
     },
     "execution_count": 6,
     "metadata": {},
     "output_type": "execute_result"
    }
   ],
   "source": [
    "32*784+784"
   ]
  },
  {
   "cell_type": "code",
   "execution_count": 7,
   "metadata": {},
   "outputs": [
    {
     "name": "stdout",
     "output_type": "stream",
     "text": [
      "_________________________________________________________________\n",
      "Layer (type)                 Output Shape              Param #   \n",
      "=================================================================\n",
      "ImageInput (InputLayer)      (None, 784)               0         \n",
      "_________________________________________________________________\n",
      "Encoder (Dense)              (None, 64)                50240     \n",
      "_________________________________________________________________\n",
      "Decoder (Dense)              (None, 784)               50960     \n",
      "=================================================================\n",
      "Total params: 101,200\n",
      "Trainable params: 101,200\n",
      "Non-trainable params: 0\n",
      "_________________________________________________________________\n"
     ]
    }
   ],
   "source": [
    "autoencoder.summary()"
   ]
  },
  {
   "cell_type": "code",
   "execution_count": 8,
   "metadata": {},
   "outputs": [
    {
     "name": "stdout",
     "output_type": "stream",
     "text": [
      "Train on 60000 samples, validate on 10000 samples\n",
      "Epoch 1/25\n",
      "60000/60000 [==============================] - 6s 104us/step - loss: 0.3492 - acc: 0.7599 - val_loss: 0.2692 - val_acc: 0.7966\n",
      "Epoch 2/25\n",
      "60000/60000 [==============================] - 5s 88us/step - loss: 0.2595 - acc: 0.7987 - val_loss: 0.2454 - val_acc: 0.7976\n",
      "Epoch 3/25\n",
      "60000/60000 [==============================] - 6s 98us/step - loss: 0.2334 - acc: 0.7986 - val_loss: 0.2201 - val_acc: 0.7980\n",
      "Epoch 4/25\n",
      "60000/60000 [==============================] - 6s 97us/step - loss: 0.2124 - acc: 0.7988 - val_loss: 0.2027 - val_acc: 0.7995\n",
      "Epoch 5/25\n",
      "60000/60000 [==============================] - 6s 97us/step - loss: 0.1976 - acc: 0.8003 - val_loss: 0.1902 - val_acc: 0.8003\n",
      "Epoch 6/25\n",
      "60000/60000 [==============================] - 6s 98us/step - loss: 0.1869 - acc: 0.8016 - val_loss: 0.1810 - val_acc: 0.8017\n",
      "Epoch 7/25\n",
      "60000/60000 [==============================] - 6s 99us/step - loss: 0.1785 - acc: 0.8029 - val_loss: 0.1735 - val_acc: 0.8031\n",
      "Epoch 8/25\n",
      "60000/60000 [==============================] - 6s 99us/step - loss: 0.1714 - acc: 0.8041 - val_loss: 0.1668 - val_acc: 0.8039\n",
      "Epoch 9/25\n",
      "60000/60000 [==============================] - 6s 99us/step - loss: 0.1653 - acc: 0.8051 - val_loss: 0.1611 - val_acc: 0.8052\n",
      "Epoch 10/25\n",
      "60000/60000 [==============================] - 6s 99us/step - loss: 0.1598 - acc: 0.8060 - val_loss: 0.1559 - val_acc: 0.8060\n",
      "Epoch 11/25\n",
      "60000/60000 [==============================] - 6s 98us/step - loss: 0.1549 - acc: 0.8068 - val_loss: 0.1511 - val_acc: 0.8067\n",
      "Epoch 12/25\n",
      "60000/60000 [==============================] - 6s 99us/step - loss: 0.1503 - acc: 0.8076 - val_loss: 0.1467 - val_acc: 0.8073\n",
      "Epoch 13/25\n",
      "60000/60000 [==============================] - 6s 99us/step - loss: 0.1462 - acc: 0.8082 - val_loss: 0.1429 - val_acc: 0.8081\n",
      "Epoch 14/25\n",
      "60000/60000 [==============================] - 6s 98us/step - loss: 0.1424 - acc: 0.8088 - val_loss: 0.1392 - val_acc: 0.8085\n",
      "Epoch 15/25\n",
      "60000/60000 [==============================] - 6s 100us/step - loss: 0.1389 - acc: 0.8093 - val_loss: 0.1359 - val_acc: 0.8089\n",
      "Epoch 16/25\n",
      "60000/60000 [==============================] - 6s 100us/step - loss: 0.1357 - acc: 0.8098 - val_loss: 0.1328 - val_acc: 0.8092\n",
      "Epoch 17/25\n",
      "60000/60000 [==============================] - 6s 100us/step - loss: 0.1328 - acc: 0.8102 - val_loss: 0.1299 - val_acc: 0.8096\n",
      "Epoch 18/25\n",
      "60000/60000 [==============================] - 6s 98us/step - loss: 0.1301 - acc: 0.8106 - val_loss: 0.1273 - val_acc: 0.8100\n",
      "Epoch 19/25\n",
      "60000/60000 [==============================] - 6s 99us/step - loss: 0.1275 - acc: 0.8109 - val_loss: 0.1248 - val_acc: 0.8103\n",
      "Epoch 20/25\n",
      "60000/60000 [==============================] - 6s 98us/step - loss: 0.1251 - acc: 0.8112 - val_loss: 0.1225 - val_acc: 0.8107\n",
      "Epoch 21/25\n",
      "60000/60000 [==============================] - 6s 104us/step - loss: 0.1228 - acc: 0.8115 - val_loss: 0.1202 - val_acc: 0.8109\n",
      "Epoch 22/25\n",
      "60000/60000 [==============================] - 6s 97us/step - loss: 0.1206 - acc: 0.8118 - val_loss: 0.1181 - val_acc: 0.8111\n",
      "Epoch 23/25\n",
      "60000/60000 [==============================] - 6s 95us/step - loss: 0.1185 - acc: 0.8121 - val_loss: 0.1161 - val_acc: 0.8113\n",
      "Epoch 24/25\n",
      "60000/60000 [==============================] - 6s 94us/step - loss: 0.1166 - acc: 0.8123 - val_loss: 0.1142 - val_acc: 0.8116\n",
      "Epoch 25/25\n",
      "60000/60000 [==============================] - 6s 99us/step - loss: 0.1147 - acc: 0.8125 - val_loss: 0.1124 - val_acc: 0.8118\n"
     ]
    },
    {
     "data": {
      "text/plain": [
       "<keras.callbacks.History at 0x1c226454d68>"
      ]
     },
     "execution_count": 8,
     "metadata": {},
     "output_type": "execute_result"
    }
   ],
   "source": [
    "autoencoder.compile(optimizer='adadelta', loss='binary_crossentropy',metrics=['accuracy'])\n",
    "\n",
    "autoencoder.fit(x_train, x_train,\n",
    "                epochs=25,\n",
    "                batch_size=256,\n",
    "                shuffle=True,\n",
    "                validation_data=(x_test, x_test))"
   ]
  },
  {
   "cell_type": "code",
   "execution_count": 15,
   "metadata": {},
   "outputs": [],
   "source": [
    "encoder = Model(input_img, encoded)\n",
    "\n",
    "encoded_input = Input(shape=(ENCODING_DIM,))\n",
    "\n",
    "decoder_layer = autoencoder.get_layer('Decoder')\n",
    "\n",
    "decoder = Model(encoded_input, decoder_layer(encoded_input))\n"
   ]
  },
  {
   "cell_type": "code",
   "execution_count": 16,
   "metadata": {},
   "outputs": [
    {
     "name": "stdout",
     "output_type": "stream",
     "text": [
      "_________________________________________________________________\n",
      "Layer (type)                 Output Shape              Param #   \n",
      "=================================================================\n",
      "input_2 (InputLayer)         (None, 64)                0         \n",
      "_________________________________________________________________\n",
      "Decoder (Dense)              (None, 784)               50960     \n",
      "=================================================================\n",
      "Total params: 50,960\n",
      "Trainable params: 50,960\n",
      "Non-trainable params: 0\n",
      "_________________________________________________________________\n"
     ]
    }
   ],
   "source": [
    "decoder.summary()"
   ]
  },
  {
   "cell_type": "code",
   "execution_count": 17,
   "metadata": {},
   "outputs": [
    {
     "name": "stdout",
     "output_type": "stream",
     "text": [
      "_________________________________________________________________\n",
      "Layer (type)                 Output Shape              Param #   \n",
      "=================================================================\n",
      "ImageInput (InputLayer)      (None, 784)               0         \n",
      "_________________________________________________________________\n",
      "Encoder (Dense)              (None, 64)                50240     \n",
      "=================================================================\n",
      "Total params: 50,240\n",
      "Trainable params: 50,240\n",
      "Non-trainable params: 0\n",
      "_________________________________________________________________\n"
     ]
    }
   ],
   "source": [
    "encoder.summary()"
   ]
  },
  {
   "cell_type": "code",
   "execution_count": 18,
   "metadata": {},
   "outputs": [],
   "source": [
    "encoded_imgs = encoder.predict(x_test)\n",
    "decoded_imgs = decoder.predict(encoded_imgs)"
   ]
  },
  {
   "cell_type": "code",
   "execution_count": 24,
   "metadata": {},
   "outputs": [
    {
     "data": {
      "text/plain": [
       "<matplotlib.image.AxesImage at 0x1c229707160>"
      ]
     },
     "execution_count": 24,
     "metadata": {},
     "output_type": "execute_result"
    },
    {
     "data": {
      "image/png": "[encoded data removed]",
      "text/plain": [
       "<Figure size 432x288 with 1 Axes>"
      ]
     },
     "metadata": {},
     "output_type": "display_data"
    }
   ],
   "source": [
    "plt.imshow(x_test[1].reshape(28,28))"
   ]
  },
  {
   "cell_type": "code",
   "execution_count": 22,
   "metadata": {},
   "outputs": [
    {
     "data": {
      "text/plain": [
       "<matplotlib.image.AxesImage at 0x1c229176668>"
      ]
     },
     "execution_count": 22,
     "metadata": {},
     "output_type": "execute_result"
    },
    {
     "data": {
      "image/png": "[encoded data removed]",
      "text/plain": [
       "<Figure size 432x288 with 1 Axes>"
      ]
     },
     "metadata": {},
     "output_type": "display_data"
    }
   ],
   "source": [
    "plt.imshow(encoded_imgs[1].reshape(8,8))"
   ]
  },
  {
   "cell_type": "code",
   "execution_count": 25,
   "metadata": {},
   "outputs": [
    {
     "data": {
      "text/plain": [
       "<matplotlib.image.AxesImage at 0x1c2297dc978>"
      ]
     },
     "execution_count": 25,
     "metadata": {},
     "output_type": "execute_result"
    },
    {
     "data": {
      "image/png": "[encoded data removed]",
      "text/plain": [
       "<Figure size 432x288 with 1 Axes>"
      ]
     },
     "metadata": {},
     "output_type": "display_data"
    }
   ],
   "source": [
    "plt.imshow(decoded_imgs[1].reshape(28,28))"
   ]
  },
  {
   "cell_type": "code",
   "execution_count": 13,
   "metadata": {},
   "outputs": [
    {
     "data": {
      "image/png": "[encoded data removed]",
      "text/plain": [
       "<Figure size 1440x288 with 20 Axes>"
      ]
     },
     "metadata": {},
     "output_type": "display_data"
    }
   ],
   "source": [
    "\n",
    "n = 10  # how many digits we will display\n",
    "plt.figure(figsize=(20, 4))\n",
    "for i in range(n):\n",
    "    # display original\n",
    "    ax = plt.subplot(2, n, i + 1)\n",
    "    plt.imshow(x_test[i].reshape(28, 28))\n",
    "    plt.gray()\n",
    "    ax.get_xaxis().set_visible(False)\n",
    "    ax.get_yaxis().set_visible(False)\n",
    "\n",
    "    # display reconstruction\n",
    "    ax = plt.subplot(2, n, i + 1 + n)\n",
    "    plt.imshow(decoded_imgs[i].reshape(28, 28))\n",
    "    plt.gray()\n",
    "    ax.get_xaxis().set_visible(False)\n",
    "    ax.get_yaxis().set_visible(False)"
   ]
  },
  {
   "cell_type": "code",
   "execution_count": 14,
   "metadata": {},
   "outputs": [
    {
     "data": {
      "text/plain": [
       "<matplotlib.image.AxesImage at 0x1c229206358>"
      ]
     },
     "execution_count": 14,
     "metadata": {},
     "output_type": "execute_result"
    },
    {
     "data": {
      "image/png": "[encoded data removed]",
      "text/plain": [
       "<Figure size 432x288 with 1 Axes>"
      ]
     },
     "metadata": {},
     "output_type": "display_data"
    }
   ],
   "source": [
    "plt.imshow(encoded_imgs[:50],)"
   ]
  },
  {
   "cell_type": "code",
   "execution_count": null,
   "metadata": {},
   "outputs": [],
   "source": []
  }
 ],
 "metadata": {
  "kernelspec": {
   "display_name": "Python 3",
   "language": "python",
   "name": "python3"
  },
  "language_info": {
   "codemirror_mode": {
    "name": "ipython",
    "version": 3
   },
   "file_extension": ".py",
   "mimetype": "text/x-python",
   "name": "python",
   "nbconvert_exporter": "python",
   "pygments_lexer": "ipython3",
   "version": "3.6.8"
  }
 },
 "nbformat": 4,
 "nbformat_minor": 2
}
